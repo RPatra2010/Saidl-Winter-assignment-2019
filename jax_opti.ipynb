{
  "nbformat": 4,
  "nbformat_minor": 0,
  "metadata": {
    "colab": {
      "name": "jax_opti.ipynb",
      "provenance": []
    },
    "kernelspec": {
      "name": "python3",
      "display_name": "Python 3"
    },
    "accelerator": "GPU"
  },
  "cells": [
    {
      "cell_type": "code",
      "metadata": {
        "id": "sXNntKuSEFOw",
        "colab_type": "code",
        "colab": {}
      },
      "source": [
        "import jax\n",
        "import jax.numpy as np\n",
        "import numpy as onp\n",
        "from jax.api import jit, grad\n",
        "\n",
        "import matplotlib.pyplot as plt\n",
        "%matplotlib inline\n",
        "\n",
        "from sklearn.datasets import make_moons\n",
        "onp.random.seed(42)"
      ],
      "execution_count": 0,
      "outputs": []
    },
    {
      "cell_type": "code",
      "metadata": {
        "id": "gC_XQ8zoI6sF",
        "colab_type": "code",
        "outputId": "6cdbd6dd-afeb-4c45-f0dd-ad6623781369",
        "colab": {
          "base_uri": "https://localhost:8080/",
          "height": 265
        }
      },
      "source": [
        "X, y = make_moons(1000, noise = 0.5)\n",
        "\n",
        "axes = [-1.5, 2.5, -1, 1.5]\n",
        "def plot_data(X, y, axes):\n",
        "  plt.plot(X[:,0][y==0], X[:,1][y==0], \"bs\")\n",
        "  plt.plot(X[:,0][y==1], X[:,1][y==1], \"g^\")\n",
        "\n",
        "plot_data(X, y, axes)"
      ],
      "execution_count": 0,
      "outputs": [
        {
          "output_type": "display_data",
          "data": {
            "image/png": "[encoded data removed]",
            "text/plain": [
              "<Figure size 432x288 with 1 Axes>"
            ]
          },
          "metadata": {
            "tags": []
          }
        }
      ]
    },
    {
      "cell_type": "code",
      "metadata": {
        "id": "CIfVVQwvG3Fr",
        "colab_type": "code",
        "outputId": "db438277-edf4-4c6b-f551-e3ac5f16ac23",
        "colab": {
          "base_uri": "https://localhost:8080/",
          "height": 35
        }
      },
      "source": [
        "X.shape"
      ],
      "execution_count": 0,
      "outputs": [
        {
          "output_type": "execute_result",
          "data": {
            "text/plain": [
              "(1000, 2)"
            ]
          },
          "metadata": {
            "tags": []
          },
          "execution_count": 3
        }
      ]
    },
    {
      "cell_type": "code",
      "metadata": {
        "id": "GAY89kvsJFeE",
        "colab_type": "code",
        "colab": {}
      },
      "source": [
        "def sigmoid(x):\n",
        "  return 1/(1+np.exp(x))\n",
        "\n",
        "def init_params():\n",
        "  onp.random.seed(2)\n",
        "  return [onp.random.randn(2, 4), #w1\n",
        "  onp.zeros(4), #b1\n",
        "  onp.random.randn(4, 1),#w2\n",
        "  onp.random.randn(1)]\n",
        "\n",
        "def predict(X, params):\n",
        "  W1 = params[0]\n",
        "  b1 = params[1]\n",
        "  W2 = params[2]\n",
        "  b2 = params[3]\n",
        "  Z1 = np.dot(X, W1) + b1\n",
        "  A1 = sigmoid(Z1)\n",
        "  Z2 = np.dot(A1, W2) + b2\n",
        "  A2 = sigmoid(Z2)\n",
        "\n",
        "  return A2\n",
        "\n",
        "def loss(params, X, y):\n",
        "  A2 = predict(X, params)\n",
        "  m = 1000*1000\n",
        "  loss = -(1/m)*np.sum(y*np.log(A2) + (1-y)*np.log(1-A2))\n",
        "  return loss"
      ],
      "execution_count": 0,
      "outputs": []
    },
    {
      "cell_type": "code",
      "metadata": {
        "id": "dsVNAxo7OWzt",
        "colab_type": "code",
        "outputId": "065ab234-a0ce-4414-9bb8-80f56dbb1dca",
        "colab": {
          "base_uri": "https://localhost:8080/",
          "height": 381
        }
      },
      "source": [
        "X1 = np.asarray(X)\n",
        "lr = 0.01\n",
        "num_epochs = 5000\n",
        "loss_grads = jax.jit(jax.grad(loss))\n",
        "params = init_params()\n",
        "costs = []\n",
        "for i in range(num_epochs):\n",
        "  #print(\"epoch-> \" + str(i+1))\n",
        "  A2 = predict(X, params)\n",
        "  cost = loss(params, X, y)\n",
        "  costs.append(cost)\n",
        "  #print(\"cost ->\" + str(cost))\n",
        "  grads = (loss_grads(params, X, y))\n",
        "  params = [param - lr*grad for param, grad in zip(params, grads)]\n",
        "  if i%500 == 0:\n",
        "    print(\"epoch ->\" + str(i))\n",
        "    print(\"cost ->\" + str(cost))"
      ],
      "execution_count": 0,
      "outputs": [
        {
          "output_type": "stream",
          "text": [
            "epoch ->0\n",
            "cost ->0.73080736\n",
            "epoch ->500\n",
            "cost ->0.7121929\n",
            "epoch ->1000\n",
            "cost ->0.7046052\n",
            "epoch ->1500\n",
            "cost ->0.7007019\n",
            "epoch ->2000\n",
            "cost ->0.6985697\n",
            "epoch ->2500\n",
            "cost ->0.6973104\n",
            "epoch ->3000\n",
            "cost ->0.6965039\n",
            "epoch ->3500\n",
            "cost ->0.69594675\n",
            "epoch ->4000\n",
            "cost ->0.6955439\n",
            "epoch ->4500\n",
            "cost ->0.6952377\n"
          ],
          "name": "stdout"
        }
      ]
    },
    {
      "cell_type": "code",
      "metadata": {
        "id": "56UVa4kAP9dG",
        "colab_type": "code",
        "outputId": "dd91e567-d62c-4a06-edb8-8e805b32fb6d",
        "colab": {
          "base_uri": "https://localhost:8080/",
          "height": 283
        }
      },
      "source": [
        "plt.plot(costs)"
      ],
      "execution_count": 0,
      "outputs": [
        {
          "output_type": "execute_result",
          "data": {
            "text/plain": [
              "[<matplotlib.lines.Line2D at 0x7f204c176fd0>]"
            ]
          },
          "metadata": {
            "tags": []
          },
          "execution_count": 20
        },
        {
          "output_type": "display_data",
          "data": {
            "image/png": "[encoded data removed]",
            "text/plain": [
              "<Figure size 432x288 with 1 Axes>"
            ]
          },
          "metadata": {
            "tags": []
          }
        }
      ]
    },
    {
      "cell_type": "code",
      "metadata": {
        "id": "gMFxUcD_RdbB",
        "colab_type": "code",
        "outputId": "0f2e9679-9bfc-4b11-d82a-2f25f7f6c244",
        "colab": {
          "base_uri": "https://localhost:8080/",
          "height": 381
        }
      },
      "source": [
        "#stochastic gd with learning rate decay\n",
        "params = init_params()\n",
        "costs_2 = []\n",
        "lrl = 0.01\n",
        "lrT = 0.01*lrl\n",
        "T = 3500\n",
        "num_epochs = 5000\n",
        "for i in range(num_epochs):\n",
        "  A2 = predict(X, params)\n",
        "  cost = loss(params, X, y)\n",
        "  costs_2.append(cost)\n",
        "  #print(\"cost ->\" + str(cost))\n",
        "  if lrl>lrT:\n",
        "    lrl = lrl*(1-i/T) + lrT\n",
        "  else:\n",
        "    lrl = lrT\n",
        "  grads = (loss_grads(params, X, y))\n",
        "  params = [param - lrl*grad for param, grad in zip(params, grads)]\n",
        "  if i%500 == 0:\n",
        "    print(\"epoch ->\" + str(i))\n",
        "    print(\"cost ->\" + str(cost))"
      ],
      "execution_count": 0,
      "outputs": [
        {
          "output_type": "stream",
          "text": [
            "epoch ->0\n",
            "cost ->0.7308064\n",
            "epoch ->500\n",
            "cost ->0.7213865\n",
            "epoch ->1000\n",
            "cost ->0.72047585\n",
            "epoch ->1500\n",
            "cost ->0.7199732\n",
            "epoch ->2000\n",
            "cost ->0.71962583\n",
            "epoch ->2500\n",
            "cost ->0.71936333\n",
            "epoch ->3000\n",
            "cost ->0.7191511\n",
            "epoch ->3500\n",
            "cost ->0.71897525\n",
            "epoch ->4000\n",
            "cost ->0.718812\n",
            "epoch ->4500\n",
            "cost ->0.71865344\n"
          ],
          "name": "stdout"
        }
      ]
    },
    {
      "cell_type": "code",
      "metadata": {
        "id": "GF2f-SJCY6Po",
        "colab_type": "code",
        "outputId": "b7a40f55-19c5-48a1-bc7f-1e18a607bfa8",
        "colab": {
          "base_uri": "https://localhost:8080/",
          "height": 283
        }
      },
      "source": [
        "plt.plot(costs_2)"
      ],
      "execution_count": 0,
      "outputs": [
        {
          "output_type": "execute_result",
          "data": {
            "text/plain": [
              "[<matplotlib.lines.Line2D at 0x7f1cb1f1a390>]"
            ]
          },
          "metadata": {
            "tags": []
          },
          "execution_count": 23
        },
        {
          "output_type": "display_data",
          "data": {
            "image/png": "[encoded data removed]",
            "text/plain": [
              "<Figure size 432x288 with 1 Axes>"
            ]
          },
          "metadata": {
            "tags": []
          }
        }
      ]
    },
    {
      "cell_type": "code",
      "metadata": {
        "id": "YCkESk17ax5n",
        "colab_type": "code",
        "outputId": "5f9c8204-9745-4607-ed6d-923584d608fe",
        "colab": {
          "base_uri": "https://localhost:8080/",
          "height": 283
        }
      },
      "source": [
        "#sgd with weight updates starts converging before the 1000th epoch\n",
        "plt.plot(costs_2[0:1000]) "
      ],
      "execution_count": 0,
      "outputs": [
        {
          "output_type": "execute_result",
          "data": {
            "text/plain": [
              "[<matplotlib.lines.Line2D at 0x7f206e9559e8>]"
            ]
          },
          "metadata": {
            "tags": []
          },
          "execution_count": 25
        },
        {
          "output_type": "display_data",
          "data": {
            "image/png": "[encoded data removed]",
            "text/plain": [
              "<Figure size 432x288 with 1 Axes>"
            ]
          },
          "metadata": {
            "tags": []
          }
        }
      ]
    },
    {
      "cell_type": "code",
      "metadata": {
        "id": "Vh-90Zt2a65W",
        "colab_type": "code",
        "outputId": "76b6a0d4-df9f-4177-cc5f-7e79ae02ac58",
        "colab": {
          "base_uri": "https://localhost:8080/",
          "height": 381
        }
      },
      "source": [
        "#momentum\n",
        "def init_vel():\n",
        "  return [onp.zeros((2, 4)),\n",
        "          onp.zeros((4)),\n",
        "          onp.zeros((4,1)),\n",
        "          onp.zeros((1))]\n",
        "\n",
        "vel = init_vel()\n",
        "alpha = 0.9\n",
        "params = init_params()\n",
        "num_epochs = 5000\n",
        "lr = 0.01\n",
        "costs_3 = []\n",
        "for i in range(num_epochs):\n",
        "  A2 = predict(X, params)\n",
        "  cost = loss(params, X, y)\n",
        "  costs_3.append(cost)\n",
        "  #print(\"cost ->\" + str(cost))\n",
        "  grads = (loss_grads(params, X, y))\n",
        "  vel = [alpha*v - lr*grad for v, grad in zip(vel, grads)]\n",
        "  params = [param + v for v, param in zip(vel, params)]\n",
        "  if i%500 == 0:\n",
        "    print(\"epoch ->\" + str(i))\n",
        "    print(\"cost ->\" + str(cost))"
      ],
      "execution_count": 0,
      "outputs": [
        {
          "output_type": "stream",
          "text": [
            "epoch ->0\n",
            "cost ->0.73080677\n",
            "epoch ->500\n",
            "cost ->0.6949923\n",
            "epoch ->1000\n",
            "cost ->0.6941223\n",
            "epoch ->1500\n",
            "cost ->0.69392157\n",
            "epoch ->2000\n",
            "cost ->0.69380355\n",
            "epoch ->2500\n",
            "cost ->0.6937118\n",
            "epoch ->3000\n",
            "cost ->0.6936388\n",
            "epoch ->3500\n",
            "cost ->0.69357693\n",
            "epoch ->4000\n",
            "cost ->0.69352573\n",
            "epoch ->4500\n",
            "cost ->0.693483\n"
          ],
          "name": "stdout"
        }
      ]
    },
    {
      "cell_type": "code",
      "metadata": {
        "id": "fJgUekVeeSID",
        "colab_type": "code",
        "outputId": "f24f471d-d282-43ad-e5f6-bc92b8b1a2f8",
        "colab": {
          "base_uri": "https://localhost:8080/",
          "height": 283
        }
      },
      "source": [
        "plt.plot(costs_3)"
      ],
      "execution_count": 0,
      "outputs": [
        {
          "output_type": "execute_result",
          "data": {
            "text/plain": [
              "[<matplotlib.lines.Line2D at 0x7f1cb1d79c88>]"
            ]
          },
          "metadata": {
            "tags": []
          },
          "execution_count": 27
        },
        {
          "output_type": "display_data",
          "data": {
            "image/png": "[encoded data removed]",
            "text/plain": [
              "<Figure size 432x288 with 1 Axes>"
            ]
          },
          "metadata": {
            "tags": []
          }
        }
      ]
    },
    {
      "cell_type": "code",
      "metadata": {
        "id": "yK3IcUlRPo8x",
        "colab_type": "code",
        "outputId": "3caed26e-a3dd-422e-f804-9efcd4cf6b6e",
        "colab": {
          "base_uri": "https://localhost:8080/",
          "height": 283
        }
      },
      "source": [
        "#this also starts converging before the 1000th epoch\n",
        "plt.plot(costs_3[0:1000])"
      ],
      "execution_count": 0,
      "outputs": [
        {
          "output_type": "execute_result",
          "data": {
            "text/plain": [
              "[<matplotlib.lines.Line2D at 0x7f1cb1c7df60>]"
            ]
          },
          "metadata": {
            "tags": []
          },
          "execution_count": 28
        },
        {
          "output_type": "display_data",
          "data": {
            "image/png": "[encoded data removed]",
            "text/plain": [
              "<Figure size 432x288 with 1 Axes>"
            ]
          },
          "metadata": {
            "tags": []
          }
        }
      ]
    },
    {
      "cell_type": "code",
      "metadata": {
        "id": "3yQatXBFhbTo",
        "colab_type": "code",
        "outputId": "cc4fdb6e-d356-4ca5-f980-2f96ac82b6e2",
        "colab": {
          "base_uri": "https://localhost:8080/",
          "height": 381
        }
      },
      "source": [
        "#nestero momentum\n",
        "vel = init_vel()\n",
        "params = init_params()\n",
        "params1 = init_params() #not required to init the same way\n",
        "alpha = 0.9\n",
        "lr = 0.01\n",
        "num_epochs = 5000\n",
        "costs_4 = []\n",
        "for i in range(num_epochs):\n",
        "  A2 = predict(X, params)\n",
        "  cost = loss(params, X, y)\n",
        "  costs_4.append(cost)\n",
        "  param1 = [param + alpha*v for param, v in zip(params, vel)]\n",
        "  grads = loss_grads(param1, X, y)\n",
        "  vel = [alpha*v - lr*grad for v, grad in zip(vel, grads)]\n",
        "  params = [param + v for param, v in zip(params, vel)]\n",
        "  if i%500 ==0:\n",
        "    print(\"epoch ->\" + str(i))\n",
        "    print(\"cost ->\" + str(cost))"
      ],
      "execution_count": 0,
      "outputs": [
        {
          "output_type": "stream",
          "text": [
            "epoch ->0\n",
            "cost ->0.73080724\n",
            "epoch ->500\n",
            "cost ->0.6949979\n",
            "epoch ->1000\n",
            "cost ->0.6941221\n",
            "epoch ->1500\n",
            "cost ->0.6939217\n",
            "epoch ->2000\n",
            "cost ->0.69380367\n",
            "epoch ->2500\n",
            "cost ->0.69371253\n",
            "epoch ->3000\n",
            "cost ->0.69363886\n",
            "epoch ->3500\n",
            "cost ->0.69357705\n",
            "epoch ->4000\n",
            "cost ->0.69352627\n",
            "epoch ->4500\n",
            "cost ->0.6934829\n"
          ],
          "name": "stdout"
        }
      ]
    },
    {
      "cell_type": "code",
      "metadata": {
        "id": "_A-zCsHJuVyW",
        "colab_type": "code",
        "outputId": "474ce8e6-0129-4a66-c041-0ce078a3758b",
        "colab": {
          "base_uri": "https://localhost:8080/",
          "height": 283
        }
      },
      "source": [
        "plt.plot(costs_4)"
      ],
      "execution_count": 0,
      "outputs": [
        {
          "output_type": "execute_result",
          "data": {
            "text/plain": [
              "[<matplotlib.lines.Line2D at 0x7f1cb1b149e8>]"
            ]
          },
          "metadata": {
            "tags": []
          },
          "execution_count": 31
        },
        {
          "output_type": "display_data",
          "data": {
            "image/png": "[encoded data removed]",
            "text/plain": [
              "<Figure size 432x288 with 1 Axes>"
            ]
          },
          "metadata": {
            "tags": []
          }
        }
      ]
    },
    {
      "cell_type": "code",
      "metadata": {
        "id": "YJiZO703P3tW",
        "colab_type": "code",
        "outputId": "fde0087c-9390-4cdd-b728-04a2b7ec5ff4",
        "colab": {
          "base_uri": "https://localhost:8080/",
          "height": 283
        }
      },
      "source": [
        "#starts converging before the 1000th epoch as well\n",
        "plt.plot(costs_4[0:1000])"
      ],
      "execution_count": 0,
      "outputs": [
        {
          "output_type": "execute_result",
          "data": {
            "text/plain": [
              "[<matplotlib.lines.Line2D at 0x7f1cb19866a0>]"
            ]
          },
          "metadata": {
            "tags": []
          },
          "execution_count": 33
        },
        {
          "output_type": "display_data",
          "data": {
            "image/png": "[encoded data removed]",
            "text/plain": [
              "<Figure size 432x288 with 1 Axes>"
            ]
          },
          "metadata": {
            "tags": []
          }
        }
      ]
    },
    {
      "cell_type": "code",
      "metadata": {
        "id": "3gqx8FEhumDx",
        "colab_type": "code",
        "outputId": "ac679789-2ef2-4306-e675-7ff87001f1e2",
        "colab": {
          "base_uri": "https://localhost:8080/",
          "height": 381
        }
      },
      "source": [
        "#adagrad\n",
        "def init_r():\n",
        "  return [np.zeros((2,4)),\n",
        "          np.zeros((4)),\n",
        "          np.zeros((4,1)),\n",
        "          np.zeros((1))]\n",
        "\n",
        "r = init_r()\n",
        "delta_params = init_r() #same fn can be used\n",
        "costs_5 = []\n",
        "delta = 1e-7\n",
        "params = init_params()\n",
        "num_epochs = 5000\n",
        "lr = 0.01\n",
        "for i in range(num_epochs):\n",
        "  A2 = predict(X, params)\n",
        "  cost = loss(params, X, y)\n",
        "  costs_5.append(cost)\n",
        "  grads = loss_grads(params, X, y)\n",
        "  r = [r1 + grad*grad for r1, grad in zip(r, grads)]\n",
        "  delta_params = [-(lr/(delta+np.sqrt(r1)))*grad for r1, grad in zip(r, grads)]\n",
        "  params = [param + delta_param for param, delta_param in zip(params, delta_params)]\n",
        "  if i%500==0:\n",
        "    print(\"epoch ->\" + str(i))\n",
        "    print(\"cost ->\" + str(cost))"
      ],
      "execution_count": 0,
      "outputs": [
        {
          "output_type": "stream",
          "text": [
            "epoch ->0\n",
            "cost ->0.7308077\n",
            "epoch ->500\n",
            "cost ->0.6953798\n",
            "epoch ->1000\n",
            "cost ->0.6941752\n",
            "epoch ->1500\n",
            "cost ->0.6938345\n",
            "epoch ->2000\n",
            "cost ->0.69364655\n",
            "epoch ->2500\n",
            "cost ->0.69352406\n",
            "epoch ->3000\n",
            "cost ->0.69343996\n",
            "epoch ->3500\n",
            "cost ->0.6933802\n",
            "epoch ->4000\n",
            "cost ->0.6933365\n",
            "epoch ->4500\n",
            "cost ->0.69330364\n"
          ],
          "name": "stdout"
        }
      ]
    },
    {
      "cell_type": "code",
      "metadata": {
        "id": "dJMdH3Ciypjk",
        "colab_type": "code",
        "outputId": "2a78fd32-00c8-4cb9-e357-88c6dc31ce68",
        "colab": {
          "base_uri": "https://localhost:8080/",
          "height": 283
        }
      },
      "source": [
        "plt.plot(costs_5)"
      ],
      "execution_count": 0,
      "outputs": [
        {
          "output_type": "execute_result",
          "data": {
            "text/plain": [
              "[<matplotlib.lines.Line2D at 0x7f1cb18aafd0>]"
            ]
          },
          "metadata": {
            "tags": []
          },
          "execution_count": 36
        },
        {
          "output_type": "display_data",
          "data": {
            "image/png": "[encoded data removed]",
            "text/plain": [
              "<Figure size 432x288 with 1 Axes>"
            ]
          },
          "metadata": {
            "tags": []
          }
        }
      ]
    },
    {
      "cell_type": "code",
      "metadata": {
        "id": "eJA_bPR37pa-",
        "colab_type": "code",
        "outputId": "b0c16618-6f7c-469b-9404-9414efeed4e7",
        "colab": {
          "base_uri": "https://localhost:8080/",
          "height": 283
        }
      },
      "source": [
        "#starts converging before the 1000th epoch as well\n",
        "plt.plot(costs_5[0:1000])"
      ],
      "execution_count": 0,
      "outputs": [
        {
          "output_type": "execute_result",
          "data": {
            "text/plain": [
              "[<matplotlib.lines.Line2D at 0x7f1cb149e2e8>]"
            ]
          },
          "metadata": {
            "tags": []
          },
          "execution_count": 37
        },
        {
          "output_type": "display_data",
          "data": {
            "image/png": "[encoded data removed]",
            "text/plain": [
              "<Figure size 432x288 with 1 Axes>"
            ]
          },
          "metadata": {
            "tags": []
          }
        }
      ]
    },
    {
      "cell_type": "code",
      "metadata": {
        "id": "GmBh3NLPz2O9",
        "colab_type": "code",
        "outputId": "6c18dca4-7850-4735-fd3e-c5aa3a50d422",
        "colab": {
          "base_uri": "https://localhost:8080/",
          "height": 381
        }
      },
      "source": [
        "#rmsprop\n",
        "r = init_r()\n",
        "vel = init_vel()\n",
        "lr = 0.01\n",
        "rho = 0.1\n",
        "alpha = 0.9\n",
        "costs_6 = []\n",
        "delta = 1e-7\n",
        "params = init_params()\n",
        "params1 = init_params()\n",
        "num_epochs = 5000\n",
        "for i in range(num_epochs):\n",
        "  A2 = predict(X, params)\n",
        "  cost = loss(params, X, y)\n",
        "  costs_6.append(cost)\n",
        "  params1 = [param + alpha*v for param, v in zip(params, vel)]\n",
        "  grads = loss_grads(params1, X, y)\n",
        "  r = [r1*rho + (1-rho)*grad*grad for r1, grad in zip(r, grads)]\n",
        "  vel = [alpha*v - grad*lr/(delta + np.sqrt(r1)) for v, r1, grad in zip(vel, r, grads)]\n",
        "  params = [param + v for param, v in zip(params, vel)]\n",
        "  if i%500==0:\n",
        "    print(\"epoch ->\" + str(i))\n",
        "    print(\"cost ->\" + str(cost))"
      ],
      "execution_count": 0,
      "outputs": [
        {
          "output_type": "stream",
          "text": [
            "epoch ->0\n",
            "cost ->0.730807\n",
            "epoch ->500\n",
            "cost ->0.6931673\n",
            "epoch ->1000\n",
            "cost ->0.69316393\n",
            "epoch ->1500\n",
            "cost ->0.69316256\n",
            "epoch ->2000\n",
            "cost ->0.6931605\n",
            "epoch ->2500\n",
            "cost ->0.69315857\n",
            "epoch ->3000\n",
            "cost ->0.6931565\n",
            "epoch ->3500\n",
            "cost ->0.69315624\n",
            "epoch ->4000\n",
            "cost ->0.69315535\n",
            "epoch ->4500\n",
            "cost ->0.69315463\n"
          ],
          "name": "stdout"
        }
      ]
    },
    {
      "cell_type": "code",
      "metadata": {
        "id": "YriNAz8MMSRd",
        "colab_type": "code",
        "outputId": "9a4b0fd4-5fc1-4f57-a714-575828f7d91f",
        "colab": {
          "base_uri": "https://localhost:8080/",
          "height": 283
        }
      },
      "source": [
        "plt.plot(costs_6)"
      ],
      "execution_count": 0,
      "outputs": [
        {
          "output_type": "execute_result",
          "data": {
            "text/plain": [
              "[<matplotlib.lines.Line2D at 0x7f1cb13b0a90>]"
            ]
          },
          "metadata": {
            "tags": []
          },
          "execution_count": 40
        },
        {
          "output_type": "display_data",
          "data": {
            "image/png": "[encoded data removed]",
            "text/plain": [
              "<Figure size 432x288 with 1 Axes>"
            ]
          },
          "metadata": {
            "tags": []
          }
        }
      ]
    },
    {
      "cell_type": "code",
      "metadata": {
        "id": "w_TzN6A5NETP",
        "colab_type": "code",
        "outputId": "e954bf4e-1352-4770-dc0f-8816939d01fd",
        "colab": {
          "base_uri": "https://localhost:8080/",
          "height": 283
        }
      },
      "source": [
        "#this looks really steep\n",
        "#lets plot out epochs 0-500 to check where it starts converging\n",
        "plt.plot(costs_6[0:500])"
      ],
      "execution_count": 0,
      "outputs": [
        {
          "output_type": "execute_result",
          "data": {
            "text/plain": [
              "[<matplotlib.lines.Line2D at 0x7f1cb129c278>]"
            ]
          },
          "metadata": {
            "tags": []
          },
          "execution_count": 41
        },
        {
          "output_type": "display_data",
          "data": {
            "image/png": "[encoded data removed]",
            "text/plain": [
              "<Figure size 432x288 with 1 Axes>"
            ]
          },
          "metadata": {
            "tags": []
          }
        }
      ]
    },
    {
      "cell_type": "code",
      "metadata": {
        "id": "C784R99_s23v",
        "colab_type": "code",
        "outputId": "f5422913-559e-43fb-b121-2a6d62e4ff68",
        "colab": {
          "base_uri": "https://localhost:8080/",
          "height": 283
        }
      },
      "source": [
        "#still no, plotting out 0-100 epochs\n",
        "plt.plot(costs_6[0:100])"
      ],
      "execution_count": 0,
      "outputs": [
        {
          "output_type": "execute_result",
          "data": {
            "text/plain": [
              "[<matplotlib.lines.Line2D at 0x7f1cb12788d0>]"
            ]
          },
          "metadata": {
            "tags": []
          },
          "execution_count": 42
        },
        {
          "output_type": "display_data",
          "data": {
            "image/png": "[encoded data removed]",
            "text/plain": [
              "<Figure size 432x288 with 1 Axes>"
            ]
          },
          "metadata": {
            "tags": []
          }
        }
      ]
    },
    {
      "cell_type": "code",
      "metadata": {
        "id": "rLyn-cAf82p9",
        "colab_type": "code",
        "colab": {}
      },
      "source": [
        ""
      ],
      "execution_count": 0,
      "outputs": []
    }
  ]
}
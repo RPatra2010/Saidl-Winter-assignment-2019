{
  "nbformat": 4,
  "nbformat_minor": 0,
  "metadata": {
    "colab": {
      "name": "Omniglot siamese net.ipynb",
      "provenance": [],
      "collapsed_sections": [],
      "machine_shape": "hm"
    },
    "kernelspec": {
      "name": "python3",
      "display_name": "Python 3"
    },
    "accelerator": "GPU"
  },
  "cells": [
    {
      "cell_type": "code",
      "metadata": {
        "id": "wHSGm2qX5I_D",
        "colab_type": "code",
        "colab": {}
      },
      "source": [
        "import torch\n",
        "import torchvision.datasets as dset\n",
        "import torchvision.transforms as transforms\n",
        "import torch.nn as nn\n",
        "from torch.autograd import Variable"
      ],
      "execution_count": 0,
      "outputs": []
    },
    {
      "cell_type": "code",
      "metadata": {
        "id": "CiA5U46wN_tO",
        "colab_type": "code",
        "outputId": "6b2a34f4-b54c-49e1-fe13-d0ac5a17017c",
        "colab": {
          "base_uri": "https://localhost:8080/",
          "height": 35
        }
      },
      "source": [
        "torch.cuda.is_available()"
      ],
      "execution_count": 0,
      "outputs": [
        {
          "output_type": "execute_result",
          "data": {
            "text/plain": [
              "True"
            ]
          },
          "metadata": {
            "tags": []
          },
          "execution_count": 2
        }
      ]
    },
    {
      "cell_type": "code",
      "metadata": {
        "id": "1Wc1JrFc5Of8",
        "colab_type": "code",
        "outputId": "f28e669a-2f55-4a25-d45d-1489807b204e",
        "colab": {
          "base_uri": "https://localhost:8080/",
          "height": 54
        }
      },
      "source": [
        "dataset = dset.Omniglot(root = \"./data\", download = True, transform = transforms.ToTensor())\n",
        "len(dataset)"
      ],
      "execution_count": 0,
      "outputs": [
        {
          "output_type": "stream",
          "text": [
            "Files already downloaded and verified\n"
          ],
          "name": "stdout"
        },
        {
          "output_type": "execute_result",
          "data": {
            "text/plain": [
              "19280"
            ]
          },
          "metadata": {
            "tags": []
          },
          "execution_count": 3
        }
      ]
    },
    {
      "cell_type": "code",
      "metadata": {
        "id": "A8sDrPk5xKuN",
        "colab_type": "code",
        "colab": {}
      },
      "source": [
        "images = torch.empty(19280, 105, 105)\n",
        "labels = torch.empty(19280)\n",
        "for i in range(len(dataset)):\n",
        "  images[i], labels[i] = dataset[i]"
      ],
      "execution_count": 0,
      "outputs": []
    },
    {
      "cell_type": "code",
      "metadata": {
        "id": "GnMNYKiJx9BK",
        "colab_type": "code",
        "outputId": "6a640a5e-0d3e-4d32-dffb-1826345e2611",
        "colab": {
          "base_uri": "https://localhost:8080/",
          "height": 286
        }
      },
      "source": [
        "import matplotlib.pyplot as plt\n",
        "plt.imshow(images[4])"
      ],
      "execution_count": 0,
      "outputs": [
        {
          "output_type": "execute_result",
          "data": {
            "text/plain": [
              "<matplotlib.image.AxesImage at 0x7f2cb2b0bcf8>"
            ]
          },
          "metadata": {
            "tags": []
          },
          "execution_count": 5
        },
        {
          "output_type": "display_data",
          "data": {
            "image/png": "[encoded data removed]",
            "text/plain": [
              "<Figure size 432x288 with 1 Axes>"
            ]
          },
          "metadata": {
            "tags": []
          }
        }
      ]
    },
    {
      "cell_type": "code",
      "metadata": {
        "id": "1aO_fGLLyB6c",
        "colab_type": "code",
        "outputId": "5c596fe1-ab8a-49c5-95ee-b7dbbcb537ac",
        "colab": {
          "base_uri": "https://localhost:8080/",
          "height": 35
        }
      },
      "source": [
        "labels[4]"
      ],
      "execution_count": 0,
      "outputs": [
        {
          "output_type": "execute_result",
          "data": {
            "text/plain": [
              "tensor(0.)"
            ]
          },
          "metadata": {
            "tags": []
          },
          "execution_count": 6
        }
      ]
    },
    {
      "cell_type": "code",
      "metadata": {
        "id": "oaDTFwxzHlMg",
        "colab_type": "code",
        "outputId": "6642dda6-629b-4e3d-c50f-0a3691d5003a",
        "colab": {
          "base_uri": "https://localhost:8080/",
          "height": 35
        }
      },
      "source": [
        "images.shape[0]/20 #no of classes"
      ],
      "execution_count": 0,
      "outputs": [
        {
          "output_type": "execute_result",
          "data": {
            "text/plain": [
              "964.0"
            ]
          },
          "metadata": {
            "tags": []
          },
          "execution_count": 7
        }
      ]
    },
    {
      "cell_type": "code",
      "metadata": {
        "id": "OQ_cllU2JLfb",
        "colab_type": "code",
        "colab": {}
      },
      "source": [
        "import torch.nn.functional as F"
      ],
      "execution_count": 0,
      "outputs": []
    },
    {
      "cell_type": "code",
      "metadata": {
        "id": "AJJZ_fpvRLdk",
        "colab_type": "code",
        "outputId": "2cbcc662-7eee-4cd2-c918-27ba3d221f42",
        "colab": {
          "base_uri": "https://localhost:8080/",
          "height": 326
        }
      },
      "source": [
        "class Net(nn.Module):\n",
        "  def __init__(self):\n",
        "    super(Net, self).__init__()\n",
        "\n",
        "    self.layers = nn.Sequential(\n",
        "        nn.Conv2d(1, 64, 10),\n",
        "        nn.ReLU(inplace = True),\n",
        "        nn.MaxPool2d(2),\n",
        "        nn.Conv2d(64, 128, 7),\n",
        "        nn.ReLU(inplace = True),\n",
        "        nn.MaxPool2d(2),\n",
        "        nn.Conv2d(128, 128, 4),\n",
        "        nn.ReLU(inplace = True),\n",
        "        nn.MaxPool2d(2),\n",
        "        nn.Conv2d(128, 256, 4),\n",
        "        nn.ReLU(inplace = True),\n",
        "        nn.MaxPool2d(2)\n",
        "    )\n",
        "    self.fc1 = nn.Linear(2304, 964)\n",
        "  \n",
        "  def forward(self, x):\n",
        "    x = self.layers(x)\n",
        "    x = x.view(-1, self.num_flat_features(x))\n",
        "    x = F.sigmoid(x)\n",
        "    x = self.fc1(x)\n",
        "    return x\n",
        "\n",
        "  def num_flat_features(self, x):\n",
        "    size = x.size()[1:]\n",
        "    num_features = 1\n",
        "    for s in size:\n",
        "      num_features *= s\n",
        "    return num_features\n",
        "\n",
        "net = Net()\n",
        "net = net.cuda()\n",
        "print(net)"
      ],
      "execution_count": 0,
      "outputs": [
        {
          "output_type": "stream",
          "text": [
            "Net(\n",
            "  (layers): Sequential(\n",
            "    (0): Conv2d(1, 64, kernel_size=(10, 10), stride=(1, 1))\n",
            "    (1): ReLU(inplace=True)\n",
            "    (2): MaxPool2d(kernel_size=2, stride=2, padding=0, dilation=1, ceil_mode=False)\n",
            "    (3): Conv2d(64, 128, kernel_size=(7, 7), stride=(1, 1))\n",
            "    (4): ReLU(inplace=True)\n",
            "    (5): MaxPool2d(kernel_size=2, stride=2, padding=0, dilation=1, ceil_mode=False)\n",
            "    (6): Conv2d(128, 128, kernel_size=(4, 4), stride=(1, 1))\n",
            "    (7): ReLU(inplace=True)\n",
            "    (8): MaxPool2d(kernel_size=2, stride=2, padding=0, dilation=1, ceil_mode=False)\n",
            "    (9): Conv2d(128, 256, kernel_size=(4, 4), stride=(1, 1))\n",
            "    (10): ReLU(inplace=True)\n",
            "    (11): MaxPool2d(kernel_size=2, stride=2, padding=0, dilation=1, ceil_mode=False)\n",
            "  )\n",
            "  (fc1): Linear(in_features=2304, out_features=964, bias=True)\n",
            ")\n"
          ],
          "name": "stdout"
        }
      ]
    },
    {
      "cell_type": "code",
      "metadata": {
        "id": "X7shmuHCd_q3",
        "colab_type": "code",
        "outputId": "a810ae3e-8236-4cb0-ccb5-41a8e4d174fd",
        "colab": {
          "base_uri": "https://localhost:8080/",
          "height": 54
        }
      },
      "source": [
        "params = list(net.parameters())\n",
        "print(len(params))\n",
        "print(params[0].size())"
      ],
      "execution_count": 0,
      "outputs": [
        {
          "output_type": "stream",
          "text": [
            "10\n",
            "torch.Size([64, 1, 10, 10])\n"
          ],
          "name": "stdout"
        }
      ]
    },
    {
      "cell_type": "code",
      "metadata": {
        "id": "uPSnKs-tesAu",
        "colab_type": "code",
        "colab": {}
      },
      "source": [
        "from torch.optim import Adam\n",
        "optimizer = Adam(net.parameters(), lr = 0.01)\n",
        "criterion = nn.CrossEntropyLoss()"
      ],
      "execution_count": 0,
      "outputs": []
    },
    {
      "cell_type": "code",
      "metadata": {
        "id": "JDPC0QZ5AOl9",
        "colab_type": "code",
        "colab": {}
      },
      "source": [
        "import numpy as np\n",
        "shuffled_indices = np.random.permutation(19280)\n",
        "img = images[shuffled_indices,:,:]\n",
        "lbl = labels[shuffled_indices]"
      ],
      "execution_count": 0,
      "outputs": []
    },
    {
      "cell_type": "code",
      "metadata": {
        "id": "R6zgKBrDgzeR",
        "colab_type": "code",
        "outputId": "24f6ce9d-2367-4a0f-fc28-ea5b01fd72e7",
        "colab": {
          "base_uri": "https://localhost:8080/",
          "height": 1000
        }
      },
      "source": [
        "losses = []\n",
        "for epoch in range(20):\n",
        "  loss = 0\n",
        "  for i in range(int(19280/20)):\n",
        "    #shuffled_indices = np.random.permutation(19280)\n",
        "    #img = images[shuffled_indices,:,:]\n",
        "    img2 = img[20*i:20*(i+1)]\n",
        "    #lbl = labels[shuffled_indices]\n",
        "    lbl2 = lbl[20*i:20*(i+1)]\n",
        "    img2 = img2.cuda()\n",
        "    lbl2 = lbl2.cuda()\n",
        "    optimizer.zero_grad()\n",
        "\n",
        "    outputs = net(img2.reshape(20, 1, 105, 105))\n",
        "    #output_x = F.softmax(outputs, dim = 1)\n",
        "    #_, argmax = output_x.max(-1)\n",
        "\n",
        "    loss = criterion(outputs, lbl2.long())\n",
        "    losses.append(loss.item())\n",
        "    loss.backward()\n",
        "    optimizer.step()\n",
        "\n",
        "    if i%200 == 199:\n",
        "      print(\"epoch ->\" + str(epoch+1))\n",
        "      print(\"batch ->\" + str(i+1))\n",
        "      print(\"loss ->\" + str(loss.item()))"
      ],
      "execution_count": 0,
      "outputs": [
        {
          "output_type": "stream",
          "text": [
            "/usr/local/lib/python3.6/dist-packages/torch/nn/functional.py:1351: UserWarning: nn.functional.sigmoid is deprecated. Use torch.sigmoid instead.\n",
            "  warnings.warn(\"nn.functional.sigmoid is deprecated. Use torch.sigmoid instead.\")\n"
          ],
          "name": "stderr"
        },
        {
          "output_type": "stream",
          "text": [
            "epoch ->1\n",
            "batch ->200\n",
            "loss ->2852.082763671875\n",
            "epoch ->1\n",
            "batch ->400\n",
            "loss ->4342.9736328125\n",
            "epoch ->1\n",
            "batch ->600\n",
            "loss ->4985.53662109375\n",
            "epoch ->1\n",
            "batch ->800\n",
            "loss ->8538.0625\n",
            "epoch ->2\n",
            "batch ->200\n",
            "loss ->3713.25244140625\n",
            "epoch ->2\n",
            "batch ->400\n",
            "loss ->2628.150634765625\n",
            "epoch ->2\n",
            "batch ->600\n",
            "loss ->2092.2890625\n",
            "epoch ->2\n",
            "batch ->800\n",
            "loss ->2457.767333984375\n",
            "epoch ->3\n",
            "batch ->200\n",
            "loss ->2030.570556640625\n",
            "epoch ->3\n",
            "batch ->400\n",
            "loss ->1880.4228515625\n",
            "epoch ->3\n",
            "batch ->600\n",
            "loss ->1724.9349365234375\n",
            "epoch ->3\n",
            "batch ->800\n",
            "loss ->1961.868896484375\n",
            "epoch ->4\n",
            "batch ->200\n",
            "loss ->2084.159423828125\n",
            "epoch ->4\n",
            "batch ->400\n",
            "loss ->1601.8443603515625\n",
            "epoch ->4\n",
            "batch ->600\n",
            "loss ->1695.036376953125\n",
            "epoch ->4\n",
            "batch ->800\n",
            "loss ->1703.6842041015625\n",
            "epoch ->5\n",
            "batch ->200\n",
            "loss ->1609.786376953125\n",
            "epoch ->5\n",
            "batch ->400\n",
            "loss ->1665.2230224609375\n",
            "epoch ->5\n",
            "batch ->600\n",
            "loss ->1070.1231689453125\n",
            "epoch ->5\n",
            "batch ->800\n",
            "loss ->1972.309814453125\n",
            "epoch ->6\n",
            "batch ->200\n",
            "loss ->1704.3714599609375\n",
            "epoch ->6\n",
            "batch ->400\n",
            "loss ->1844.770751953125\n",
            "epoch ->6\n",
            "batch ->600\n",
            "loss ->1571.07568359375\n",
            "epoch ->6\n",
            "batch ->800\n",
            "loss ->1134.915283203125\n",
            "epoch ->7\n",
            "batch ->200\n",
            "loss ->1758.1732177734375\n",
            "epoch ->7\n",
            "batch ->400\n",
            "loss ->1550.3389892578125\n",
            "epoch ->7\n",
            "batch ->600\n",
            "loss ->1364.819091796875\n",
            "epoch ->7\n",
            "batch ->800\n",
            "loss ->1471.1851806640625\n",
            "epoch ->8\n",
            "batch ->200\n",
            "loss ->1643.3179931640625\n",
            "epoch ->8\n",
            "batch ->400\n",
            "loss ->1487.718505859375\n",
            "epoch ->8\n",
            "batch ->600\n",
            "loss ->1660.5888671875\n",
            "epoch ->8\n",
            "batch ->800\n",
            "loss ->1643.496826171875\n",
            "epoch ->9\n",
            "batch ->200\n",
            "loss ->968.7288818359375\n",
            "epoch ->9\n",
            "batch ->400\n",
            "loss ->1078.263916015625\n",
            "epoch ->9\n",
            "batch ->600\n",
            "loss ->1748.1168212890625\n",
            "epoch ->9\n",
            "batch ->800\n",
            "loss ->1767.524658203125\n",
            "epoch ->10\n",
            "batch ->200\n",
            "loss ->1816.895751953125\n",
            "epoch ->10\n",
            "batch ->400\n",
            "loss ->1474.7291259765625\n",
            "epoch ->10\n",
            "batch ->600\n",
            "loss ->1532.280517578125\n",
            "epoch ->10\n",
            "batch ->800\n",
            "loss ->2294.6572265625\n",
            "epoch ->11\n",
            "batch ->200\n",
            "loss ->1698.961181640625\n",
            "epoch ->11\n",
            "batch ->400\n",
            "loss ->1535.34033203125\n",
            "epoch ->11\n",
            "batch ->600\n",
            "loss ->1082.9102783203125\n",
            "epoch ->11\n",
            "batch ->800\n",
            "loss ->1258.003173828125\n",
            "epoch ->12\n",
            "batch ->200\n",
            "loss ->1595.5078125\n",
            "epoch ->12\n",
            "batch ->400\n",
            "loss ->1745.3101806640625\n",
            "epoch ->12\n",
            "batch ->600\n",
            "loss ->1395.4632568359375\n",
            "epoch ->12\n",
            "batch ->800\n",
            "loss ->1139.5548095703125\n",
            "epoch ->13\n",
            "batch ->200\n",
            "loss ->1704.0091552734375\n",
            "epoch ->13\n",
            "batch ->400\n",
            "loss ->1235.069091796875\n",
            "epoch ->13\n",
            "batch ->600\n",
            "loss ->1601.308837890625\n",
            "epoch ->13\n",
            "batch ->800\n",
            "loss ->1455.0926513671875\n",
            "epoch ->14\n",
            "batch ->200\n",
            "loss ->1759.44921875\n",
            "epoch ->14\n",
            "batch ->400\n",
            "loss ->1204.084228515625\n",
            "epoch ->14\n",
            "batch ->600\n",
            "loss ->1785.419189453125\n",
            "epoch ->14\n",
            "batch ->800\n",
            "loss ->1387.81591796875\n",
            "epoch ->15\n",
            "batch ->200\n",
            "loss ->1460.500732421875\n",
            "epoch ->15\n",
            "batch ->400\n",
            "loss ->976.2009887695312\n",
            "epoch ->15\n",
            "batch ->600\n",
            "loss ->1449.45849609375\n",
            "epoch ->15\n",
            "batch ->800\n",
            "loss ->1484.381591796875\n",
            "epoch ->16\n",
            "batch ->200\n",
            "loss ->1483.7581787109375\n",
            "epoch ->16\n",
            "batch ->400\n",
            "loss ->1058.372314453125\n",
            "epoch ->16\n",
            "batch ->600\n",
            "loss ->1110.6280517578125\n",
            "epoch ->16\n",
            "batch ->800\n",
            "loss ->1488.376220703125\n",
            "epoch ->17\n",
            "batch ->200\n",
            "loss ->1430.934326171875\n",
            "epoch ->17\n",
            "batch ->400\n",
            "loss ->1486.29052734375\n",
            "epoch ->17\n",
            "batch ->600\n",
            "loss ->1710.456298828125\n",
            "epoch ->17\n",
            "batch ->800\n",
            "loss ->1239.66943359375\n",
            "epoch ->18\n",
            "batch ->200\n",
            "loss ->1511.881103515625\n",
            "epoch ->18\n",
            "batch ->400\n",
            "loss ->1092.43017578125\n",
            "epoch ->18\n",
            "batch ->600\n",
            "loss ->916.9837646484375\n",
            "epoch ->18\n",
            "batch ->800\n",
            "loss ->1122.8665771484375\n",
            "epoch ->19\n",
            "batch ->200\n",
            "loss ->1576.4498291015625\n",
            "epoch ->19\n",
            "batch ->400\n",
            "loss ->1233.383056640625\n",
            "epoch ->19\n",
            "batch ->600\n",
            "loss ->994.46728515625\n",
            "epoch ->19\n",
            "batch ->800\n",
            "loss ->1236.13330078125\n",
            "epoch ->20\n",
            "batch ->200\n",
            "loss ->1490.998046875\n",
            "epoch ->20\n",
            "batch ->400\n",
            "loss ->1325.144287109375\n",
            "epoch ->20\n",
            "batch ->600\n",
            "loss ->1362.2025146484375\n",
            "epoch ->20\n",
            "batch ->800\n",
            "loss ->1575.9566650390625\n"
          ],
          "name": "stdout"
        }
      ]
    },
    {
      "cell_type": "code",
      "metadata": {
        "id": "dcObjDUA8ikM",
        "colab_type": "code",
        "outputId": "6f4f02ae-dacb-4f6f-8595-fbb7df2601ac",
        "colab": {
          "base_uri": "https://localhost:8080/",
          "height": 35
        }
      },
      "source": [
        "len(losses)"
      ],
      "execution_count": 0,
      "outputs": [
        {
          "output_type": "execute_result",
          "data": {
            "text/plain": [
              "19280"
            ]
          },
          "metadata": {
            "tags": []
          },
          "execution_count": 59
        }
      ]
    },
    {
      "cell_type": "code",
      "metadata": {
        "id": "2jgSxmAIr5iC",
        "colab_type": "code",
        "outputId": "1b988c8e-0530-4ad7-8f4c-f4b460a3a393",
        "colab": {
          "base_uri": "https://localhost:8080/",
          "height": 718
        }
      },
      "source": [
        "plt.figure(figsize = (12, 12))\n",
        "plt.plot(np.arange(len(losses)),losses[0:len(losses)])"
      ],
      "execution_count": 0,
      "outputs": [
        {
          "output_type": "execute_result",
          "data": {
            "text/plain": [
              "[<matplotlib.lines.Line2D at 0x7f2bf1f40eb8>]"
            ]
          },
          "metadata": {
            "tags": []
          },
          "execution_count": 44
        },
        {
          "output_type": "display_data",
          "data": {
            "image/png": "[encoded data removed]",
            "text/plain": [
              "<Figure size 864x864 with 1 Axes>"
            ]
          },
          "metadata": {
            "tags": []
          }
        }
      ]
    },
    {
      "cell_type": "code",
      "metadata": {
        "id": "XOwcJZQu6uHO",
        "colab_type": "code",
        "outputId": "dfca55c5-3b7f-426a-ff4d-e3dbf0baaaeb",
        "colab": {
          "base_uri": "https://localhost:8080/",
          "height": 326
        }
      },
      "source": [
        "class Siamese_net(nn.Module):\n",
        "  def __init__(self):\n",
        "    super(Siamese_net, self).__init__()\n",
        "    self.model = nn.Sequential(*list(net.layers[:]))\n",
        "    self.fc1 = nn.Linear(2304, 4096)\n",
        "  \n",
        "  def forward_once(self, x):\n",
        "    x = self.model(x)\n",
        "    x = x.view(x.size()[0], -1)\n",
        "    x = F.sigmoid(self.fc1(x))\n",
        "    return x\n",
        "  \n",
        "  def forward(self, input1, input2):\n",
        "    output1 = forward_once(input1)\n",
        "    output2 = forward_once(input2)\n",
        "    return output1, output2\n",
        "\n",
        "siamese_net = Siamese_net()\n",
        "siamese_net = siamese_net.cuda()\n",
        "print(siamese_net)"
      ],
      "execution_count": 0,
      "outputs": [
        {
          "output_type": "stream",
          "text": [
            "Siamese_net(\n",
            "  (model): Sequential(\n",
            "    (0): Conv2d(1, 64, kernel_size=(10, 10), stride=(1, 1))\n",
            "    (1): ReLU(inplace=True)\n",
            "    (2): MaxPool2d(kernel_size=2, stride=2, padding=0, dilation=1, ceil_mode=False)\n",
            "    (3): Conv2d(64, 128, kernel_size=(7, 7), stride=(1, 1))\n",
            "    (4): ReLU(inplace=True)\n",
            "    (5): MaxPool2d(kernel_size=2, stride=2, padding=0, dilation=1, ceil_mode=False)\n",
            "    (6): Conv2d(128, 128, kernel_size=(4, 4), stride=(1, 1))\n",
            "    (7): ReLU(inplace=True)\n",
            "    (8): MaxPool2d(kernel_size=2, stride=2, padding=0, dilation=1, ceil_mode=False)\n",
            "    (9): Conv2d(128, 256, kernel_size=(4, 4), stride=(1, 1))\n",
            "    (10): ReLU(inplace=True)\n",
            "    (11): MaxPool2d(kernel_size=2, stride=2, padding=0, dilation=1, ceil_mode=False)\n",
            "  )\n",
            "  (fc1): Linear(in_features=2304, out_features=4096, bias=True)\n",
            ")\n"
          ],
          "name": "stdout"
        }
      ]
    },
    {
      "cell_type": "code",
      "metadata": {
        "id": "yipUvw9cAX1e",
        "colab_type": "code",
        "colab": {}
      },
      "source": [
        "class contrast_loss(nn.Module):\n",
        "  def __init__(self, margin = 3.0):\n",
        "    super(contrast_loss, self).__init__()\n",
        "    self.margin = margin\n",
        "  \n",
        "  def forward(self, output1, output2, label):\n",
        "    distance = F.pairwise_distance(output1, output2)\n",
        "    loss = torch.mean((1-label) * torch.pow(euclidean_distance, 2) + (label) * torch.pow(torch.clamp(self.margin - euclidean_distance, min=0.0), 2))\n",
        "    return loss"
      ],
      "execution_count": 0,
      "outputs": []
    },
    {
      "cell_type": "code",
      "metadata": {
        "id": "kMiFSlqDX3H0",
        "colab_type": "code",
        "colab": {}
      },
      "source": [
        "def one_shot(model, img1, img2):\n",
        "  output1, output2 = siamese_net(img1.cuda(), img2.cuda())\n",
        "  distance = F.pairwise_distance(output1, output2)\n",
        "  if distance>0.5:\n",
        "    print(\"same class\")\n",
        "  else:\n",
        "    print(\"diff class\")"
      ],
      "execution_count": 0,
      "outputs": []
    },
    {
      "cell_type": "code",
      "metadata": {
        "id": "ZfdjXn7xY0My",
        "colab_type": "code",
        "colab": {}
      },
      "source": [
        ""
      ],
      "execution_count": 0,
      "outputs": []
    }
  ]
}